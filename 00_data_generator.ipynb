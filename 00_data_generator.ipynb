{
 "cells": [
  {
   "cell_type": "code",
   "execution_count": 0,
   "metadata": {
    "application/vnd.databricks.v1+cell": {
     "cellMetadata": {
      "byteLimit": 2048000,
      "rowLimit": 10000
     },
     "inputWidgets": {},
     "nuid": "2179afd0-f316-4991-900c-4c5c7d253f0d",
     "showTitle": false,
     "tableResultSettingsMap": {},
     "title": ""
    }
   },
   "outputs": [],
   "source": [
    "# Generic stream generator\n",
    "import time, random\n",
    "from datetime import datetime, timezone, timedelta\n",
    "\n",
    "def generate_stream(\n",
    "    path: str,\n",
    "    column_name: str,\n",
    "    low: float,\n",
    "    high: float,\n",
    "    device_count: int,\n",
    "    batch_interval_s: int,\n",
    "    latency_max_s: int,\n",
    "\n",
    "):\n",
    "    \"\"\"\n",
    "    Generic IoT stream generator:\n",
    "      - Emits `device_count` rows each `batch_interval_s` seconds.\n",
    "      - Each row has:\n",
    "          device_id:    1..device_count\n",
    "          event_time:   now - random(0..latency_max_s) seconds\n",
    "          : random between [low, high]\n",
    "      - Appends into a Delta path or Delta table.\n",
    "    \"\"\"\n",
    "\n",
    "    while True:\n",
    "        now = datetime.now(timezone.utc)\n",
    "        data = []\n",
    "        for device_id in range(1, device_count + 1):\n",
    "            ts = now - timedelta(seconds=random.uniform(0, latency_max_s))\n",
    "            value = round(random.uniform(low, high), 4)\n",
    "            # build a plain dict so we can infer a schema\n",
    "            data.append({\n",
    "                \"device_id\":   device_id,\n",
    "                \"event_time\":  ts,\n",
    "                column_name:   value\n",
    "            })\n",
    "\n",
    "        df = spark.createDataFrame(data)\n",
    "\n",
    "        df.write.format(\"delta\").mode(\"append\").save(path)\n",
    "\n",
    "        time.sleep(batch_interval_s)"
   ]
  },
  {
   "cell_type": "code",
   "execution_count": 0,
   "metadata": {
    "application/vnd.databricks.v1+cell": {
     "cellMetadata": {
      "byteLimit": 2048000,
      "rowLimit": 10000
     },
     "inputWidgets": {},
     "nuid": "5fffbf28-bf87-471c-a85d-24a88c069066",
     "showTitle": false,
     "tableResultSettingsMap": {},
     "title": ""
    }
   },
   "outputs": [],
   "source": [
    "\n",
    "# Launch all three generators concurrently without a wrapper\n",
    "\n",
    "from concurrent.futures import ThreadPoolExecutor\n",
    "\n",
    "# Assume generate_stream is already defined above\n",
    "\n",
    "# Common settings\n",
    "device_count     = 5\n",
    "batch_interval_s = 60\n",
    "latency_max_s    = 60\n",
    "\n",
    "# (path, column_name, low, high)\n",
    "streams = [\n",
    "    (\"/Volumes/bridge_monitoring/00_landing/bridge_temperature\",  \"temperature\",  19,  23),\n",
    "    (\"/Volumes/bridge_monitoring/00_landing/bridge_vibration\",    \"vibration\",    0.005, 0.05),\n",
    "    (\"/Volumes/bridge_monitoring/00_landing/bridge_tilt\",         \"tilt_angle\",   -0.005, 0.005)\n",
    "]\n",
    "\n",
    "# Start each infinite generator in its own thread\n",
    "with ThreadPoolExecutor(max_workers=len(streams)) as executor:\n",
    "    for path, column_name, low, high in streams:\n",
    "        executor.submit(\n",
    "            generate_stream,\n",
    "            path,\n",
    "            column_name,\n",
    "            low,\n",
    "            high,\n",
    "            device_count,\n",
    "            batch_interval_s,\n",
    "            latency_max_s\n",
    "        )\n",
    "    # Context manager will call shutdown(wait=True) here,\n",
    "    executor.shutdown(wait=True)\n",
    "    # and block forever because these tasks never return."
   ]
  },
  {
   "cell_type": "code",
   "execution_count": 0,
   "metadata": {
    "application/vnd.databricks.v1+cell": {
     "cellMetadata": {
      "byteLimit": 2048000,
      "rowLimit": 10000
     },
     "inputWidgets": {},
     "nuid": "6059b5d7-585b-44a1-af25-3ec4a8e6f48c",
     "showTitle": false,
     "tableResultSettingsMap": {},
     "title": ""
    }
   },
   "outputs": [],
   "source": []
  }
 ],
 "metadata": {
  "application/vnd.databricks.v1+notebook": {
   "computePreferences": null,
   "dashboards": [],
   "environmentMetadata": {
    "base_environment": "",
    "environment_version": "4"
   },
   "inputWidgetPreferences": null,
   "language": "python",
   "notebookMetadata": {
    "pythonIndentUnit": 4
   },
   "notebookName": "00_data_generator",
   "widgets": {}
  },
  "language_info": {
   "name": "python"
  }
 },
 "nbformat": 4,
 "nbformat_minor": 0
}
