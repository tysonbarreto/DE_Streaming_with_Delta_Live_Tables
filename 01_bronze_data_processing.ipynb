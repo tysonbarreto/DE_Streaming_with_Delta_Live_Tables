{
 "cells": [
  {
   "cell_type": "code",
   "execution_count": 0,
   "metadata": {
    "application/vnd.databricks.v1+cell": {
     "cellMetadata": {},
     "inputWidgets": {},
     "nuid": "37480efa-3ff5-4a2c-971b-0559cb865890",
     "showTitle": false,
     "tableResultSettingsMap": {},
     "title": ""
    }
   },
   "outputs": [],
   "source": [
    "import dlt\n",
    "\n",
    "@dlt.table(name=\"01_bronze.bridge_temperature\", comment=\"Raw temperature readings\")\n",
    "def bronze_bridge_temperature():\n",
    "    df = spark.readStream.format(\"delta\").load(\"/Volumes/bridge_monitoring/00_landing/bridge_temperature\")\n",
    "    return df\n",
    "\n",
    "@dlt.table(name=\"01_bronze.bridge_vibration\", comment=\"Raw vibration readings\")\n",
    "def bronze_bridge_vibration():\n",
    "    df = spark.readStream.format(\"delta\").load(\"/Volumes/bridge_monitoring/00_landing/bridge_vibration\")\n",
    "    return df\n",
    "\n",
    "@dlt.table(name=\"01_bronze.bridge_tilt\", comment=\"Raw tilt‐angle readings\")\n",
    "def bronze_bridge_tilt():\n",
    "    df = spark.readStream.format(\"delta\").load(\"/Volumes/bridge_monitoring/00_landing/bridge_tilt\")\n",
    "    return df"
   ]
  }
 ],
 "metadata": {
  "application/vnd.databricks.v1+notebook": {
   "computePreferences": {
    "hardware": {
     "accelerator": null,
     "gpuPoolId": null,
     "memory": null
    }
   },
   "dashboards": [],
   "environmentMetadata": {
    "base_environment": "",
    "environment_version": "4"
   },
   "inputWidgetPreferences": null,
   "language": "python",
   "notebookMetadata": {
    "pythonIndentUnit": 4
   },
   "notebookName": "01_bronze_data_processing",
   "widgets": {}
  },
  "language_info": {
   "name": "python"
  }
 },
 "nbformat": 4,
 "nbformat_minor": 0
}
