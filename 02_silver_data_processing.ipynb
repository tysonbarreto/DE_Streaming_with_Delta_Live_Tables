{
 "cells": [
  {
   "cell_type": "code",
   "execution_count": 0,
   "metadata": {
    "application/vnd.databricks.v1+cell": {
     "cellMetadata": {
      "byteLimit": 2048000,
      "rowLimit": 10000
     },
     "inputWidgets": {},
     "nuid": "1a5f7733-224b-4169-a7ef-e67c8f1c85e7",
     "showTitle": false,
     "tableResultSettingsMap": {},
     "title": ""
    }
   },
   "outputs": [],
   "source": [
    "import dlt\n",
    "from pyspark.sql.functions import col"
   ]
  },
  {
   "cell_type": "code",
   "execution_count": 0,
   "metadata": {
    "application/vnd.databricks.v1+cell": {
     "cellMetadata": {},
     "inputWidgets": {},
     "nuid": "89faf8ef-f051-4f5d-b2f0-3f229c7f5b24",
     "showTitle": false,
     "tableResultSettingsMap": {},
     "title": ""
    }
   },
   "outputs": [],
   "source": [
    "@dlt.table(name=\"02_silver.bridge_metadata\", comment=\"Static metadata for five major European bridges\")\n",
    "def bridge_metadata():\n",
    "    bridges = [\n",
    "        {\"bridge_id\":1, \"name\":\"Millau Viaduct\", \"length_m\":2460,\"main_span_m\":342, \"height_m\":343, \"location\":\"Tarn Valley, France\", \"type\":\"Cable-stayed viaduct\", \"opened_year\": 2004},\n",
    "        {\"bridge_id\":2, \"name\":\"Vasco da Gama Bridge\", \"length_m\":17280, \"main_span_m\":420, \"height_m\":155, \"location\":\"Lisbon, Portugal\", \"type\":\"Box girder bridge\", \"opened_year\": 1998},\n",
    "        {\"bridge_id\":3, \"name\":\"Øresund Bridge\", \"length_m\":7845, \"main_span_m\":490, \"height_m\":204, \"location\":\"Copenhagen–Malmö, Denmark/Sweden\", \"type\":\"Cable-stayed & tunnel\",\"opened_year\":2000},\n",
    "        {\"bridge_id\":4, \"name\":\"15 July Martyrs Bridge\", \"length_m\": 1560, \"main_span_m\":1074, \"height_m\":165, \"location\":\"Istanbul, Turkey\", \"type\":\"Suspension bridge\", \"opened_year\": 1973},\n",
    "        {\"bridge_id\":5, \"name\":\"Forth Bridge\", \"length_m\":2467, \"main_span_m\":521, \"height_m\":110, \"location\":\"Firth of Forth, Scotland\", \"type\":\"Cantilever railway bridge\",\"opened_year\":1890},\n",
    "    ]\n",
    "    return spark.createDataFrame(bridges)\n",
    "\n",
    "\n",
    "@dlt.table(name=\"02_silver.bridge_temperature\", comment=\"Temperature enriched with metadata\")\n",
    "@dlt.expect_or_drop(\"valid_event_time\", \"event_time IS NOT NULL\")\n",
    "@dlt.expect(\"valid_temperature_range\", \"temperature BETWEEN -20 AND 60\")\n",
    "def silver_bridge_temperature():\n",
    "    return (\n",
    "      spark.readStream.table(\"01_bronze.bridge_temperature\")\n",
    "         .withColumn(\"event_time\", col(\"event_time\").cast(\"timestamp\"))\n",
    "         .withColumnRenamed(\"device_id\", \"bridge_id\")\n",
    "         .join(dlt.read(\"02_silver.bridge_metadata\"), on=\"bridge_id\", how=\"left\")\n",
    "         .select(\n",
    "           col(\"bridge_id\"), col(\"name\"), col(\"location\"),\n",
    "           col(\"event_time\"), col(\"temperature\")\n",
    "         )\n",
    "    )\n",
    "\n",
    "@dlt.table(name=\"02_silver.bridge_vibration\", comment=\"Vibration enriched with metadata\")\n",
    "@dlt.expect_or_drop(\"valid_event_time\", \"event_time IS NOT NULL\")\n",
    "@dlt.expect(\"valid_vibration_range\", \"vibration BETWEEN 0 AND 0.1\")\n",
    "def silver_bridge_vibration():\n",
    "    return (\n",
    "      spark.readStream.table(\"01_bronze.bridge_vibration\")\n",
    "         .withColumn(\"event_time\", col(\"event_time\").cast(\"timestamp\"))\n",
    "         .withColumnRenamed(\"device_id\", \"bridge_id\")\n",
    "         .join(dlt.read(\"02_silver.bridge_metadata\"), on=\"bridge_id\", how=\"left\")\n",
    "         .select(\n",
    "           col(\"bridge_id\"), col(\"name\"), col(\"location\"),\n",
    "           col(\"event_time\"), col(\"vibration\")\n",
    "         )\n",
    "    )\n",
    "   \n",
    "@dlt.table(name=\"02_silver.bridge_tilt\", comment=\"Tilt angle enriched with metadata\")\n",
    "@dlt.expect_or_drop(\"valid_event_time\", \"event_time IS NOT NULL\")\n",
    "@dlt.expect(\"valid_tilt_range\", \"tilt_angle BETWEEN -0.005 AND 0.005\")\n",
    "def silver_bridge_tilt():\n",
    "    return (\n",
    "      spark.readStream.table(\"01_bronze.bridge_tilt\")\n",
    "         .withColumn(\"event_time\", col(\"event_time\").cast(\"timestamp\"))\n",
    "         .withColumnRenamed(\"device_id\", \"bridge_id\")\n",
    "         .join(dlt.read(\"02_silver.bridge_metadata\"), on=\"bridge_id\", how=\"left\")\n",
    "         .select(\n",
    "           col(\"bridge_id\"), col(\"name\"), col(\"location\"),\n",
    "           col(\"event_time\"), col(\"tilt_angle\")\n",
    "         )\n",
    "    )"
   ]
  }
 ],
 "metadata": {
  "application/vnd.databricks.v1+notebook": {
   "computePreferences": null,
   "dashboards": [],
   "environmentMetadata": {
    "base_environment": "",
    "environment_version": "4"
   },
   "inputWidgetPreferences": null,
   "language": "python",
   "notebookMetadata": {
    "pythonIndentUnit": 4
   },
   "notebookName": "02_silver_data_processing",
   "widgets": {}
  },
  "language_info": {
   "name": "python"
  }
 },
 "nbformat": 4,
 "nbformat_minor": 0
}
